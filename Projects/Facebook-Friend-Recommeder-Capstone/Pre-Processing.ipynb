{
 "cells": [
  {
   "cell_type": "code",
   "execution_count": null,
   "metadata": {},
   "outputs": [],
   "source": [
    "import networkx as nx\n",
    "import pandas as pd\n",
    "import numpy as np\n",
    "import matplotlib.pyplot as plt\n",
    "import seaborn as sns"
   ]
  },
  {
   "cell_type": "code",
   "execution_count": null,
   "metadata": {},
   "outputs": [],
   "source": [
    "# (Unconnected Node Pairs) \n",
    "# Finds node pairs that do not have a edge between them\n",
    "# Finding Non-Connected Nodes\n"
   ]
  },
  {
   "cell_type": "code",
   "execution_count": null,
   "metadata": {},
   "outputs": [],
   "source": [
    "# (Negative Samples)\n",
    "# Finds node pairs from non-connected node pairs (above cell) that have a path connecting them (no direct edge connection)\n",
    "# Getting a Subset...? | Finding Connected Nodes | df1 - Creating Dataframe of Non_Exisitng_Edges\n"
   ]
  },
  {
   "cell_type": "code",
   "execution_count": null,
   "metadata": {},
   "outputs": [],
   "source": [
    "#? (Better Performance) \n",
    "# Finds node pairs where edges can be removed without changing the graph strucutre\n",
    "# df2 - Getting Removable Edges | G1 - Creating Dataframe of Removable Edges\n"
   ]
  },
  {
   "cell_type": "code",
   "execution_count": null,
   "metadata": {},
   "outputs": [],
   "source": [
    "#? (Final 'fb' dataframe for modeling) \n",
    "# Creates final dataframe 'df3' by removing df2 (removable edges) from 'fb' and creates new graph from df3\n",
    "# df3, G_new - Creating Subgraph"
   ]
  }
 ],
 "metadata": {
  "kernelspec": {
   "display_name": "Python 3",
   "language": "python",
   "name": "python3"
  },
  "language_info": {
   "codemirror_mode": {
    "name": "ipython",
    "version": 3
   },
   "file_extension": ".py",
   "mimetype": "text/x-python",
   "name": "python",
   "nbconvert_exporter": "python",
   "pygments_lexer": "ipython3",
   "version": "3.8.5"
  }
 },
 "nbformat": 4,
 "nbformat_minor": 4
}
